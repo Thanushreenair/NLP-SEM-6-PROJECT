{
  "nbformat": 4,
  "nbformat_minor": 0,
  "metadata": {
    "colab": {
      "provenance": []
    },
    "kernelspec": {
      "name": "python3",
      "display_name": "Python 3"
    },
    "language_info": {
      "name": "python"
    }
  },
  "cells": [
    {
      "cell_type": "markdown",
      "source": [
        "\n",
        "---\n",
        "\n",
        "### **Task 2 of Mini Project: Text Classification using Deep Learning**\n",
        "\n",
        "---\n",
        "\n",
        "### 1. **Data Loading**\n",
        "   - Load the dataset (can be CSV, JSON, or any other format).\n",
        "   - Perform exploratory data analysis (EDA) to understand class distributions, missing values, etc.\n",
        "   - Split the dataset into training, validation, and testing sets.\n",
        "\n",
        "```python\n",
        "# Install required libraries\n",
        "!pip install nltk keras gensim scikit-learn\n",
        "\n",
        "# Import required libraries\n",
        "import pandas as pd\n",
        "from sklearn.model_selection import train_test_split\n",
        "import matplotlib.pyplot as plt\n",
        "\n",
        "# Load the dataset\n",
        "data = pd.read_csv('text_classification_data.csv')  # Replace with actual dataset path\n",
        "\n",
        "# Exploratory Data Analysis (EDA)\n",
        "print(\"Dataset overview:\")\n",
        "print(data.info())  # Checking for missing values, data types\n",
        "print(\"\\nSample data:\")\n",
        "print(data.head())  # Display the first few rows\n",
        "\n",
        "# Plot class distribution\n",
        "plt.figure(figsize=(8, 5))\n",
        "data['label'].value_counts().plot(kind='bar', color='skyblue')\n",
        "plt.title('Class Distribution')\n",
        "plt.xlabel('Class')\n",
        "plt.ylabel('Count')\n",
        "plt.show()\n",
        "\n",
        "# Splitting data into train, validation, and test sets\n",
        "train_data, test_data = train_test_split(data, test_size=0.2, random_state=42)\n",
        "train_data, val_data = train_test_split(train_data, test_size=0.1, random_state=42)\n",
        "```\n",
        "\n",
        "---\n",
        "\n",
        "### 2. **Text Processing**\n",
        "   - Clean the text by removing stop words, punctuation, and special characters.\n",
        "   - Tokenization: Convert sentences into lists of words/tokens.\n",
        "   - Optionally, apply stemming or lemmatization to normalize words.\n",
        "\n",
        "```python\n",
        "import re\n",
        "import nltk\n",
        "nltk.download('punkt')\n",
        "nltk.download('stopwords')\n",
        "from nltk.corpus import stopwords\n",
        "from nltk.tokenize import word_tokenize\n",
        "\n",
        "# Function to clean and preprocess text\n",
        "def preprocess_text(text):\n",
        "    text = text.lower()  # Convert to lowercase\n",
        "    text = re.sub(r'\\W', ' ', text)  # Remove special characters\n",
        "    text = re.sub(r'\\s+', ' ', text)  # Remove extra spaces\n",
        "    tokens = word_tokenize(text)  # Tokenize the text\n",
        "    tokens = [word for word in tokens if word not in stopwords.words('english')]  # Remove stopwords\n",
        "    return ' '.join(tokens)\n",
        "\n",
        "# Apply the preprocessing to the dataset\n",
        "train_data['processed_text'] = train_data['text'].apply(preprocess_text)\n",
        "val_data['processed_text'] = val_data['text'].apply(preprocess_text)\n",
        "test_data['processed_text'] = test_data['text'].apply(preprocess_text)\n",
        "\n",
        "# Check the processed text\n",
        "print(train_data[['text', 'processed_text']].head())\n",
        "```\n",
        "\n",
        "---\n",
        "\n",
        "### 3. **Text Embedding**\n",
        "   - Implement different types of embeddings for text conversion into numerical form:\n",
        "     - **Bag of Words (BoW)**: Count-based method for representing text.\n",
        "     - **TF-IDF**: Weigh terms based on their frequency and importance.\n",
        "     - **FastText**: Pre-trained word embeddings that capture word meanings.\n",
        "\n",
        "```python\n",
        "from sklearn.feature_extraction.text import CountVectorizer, TfidfVectorizer\n",
        "import gensim\n",
        "\n",
        "# Bag of Words (BoW)\n",
        "bow_vectorizer = CountVectorizer(max_features=5000)\n",
        "X_train_bow = bow_vectorizer.fit_transform(train_data['processed_text']).toarray()\n",
        "X_val_bow = bow_vectorizer.transform(val_data['processed_text']).toarray()\n",
        "X_test_bow = bow_vectorizer.transform(test_data['processed_text']).toarray()\n",
        "\n",
        "# TF-IDF\n",
        "tfidf_vectorizer = TfidfVectorizer(max_features=5000)\n",
        "X_train_tfidf = tfidf_vectorizer.fit_transform(train_data['processed_text']).toarray()\n",
        "X_val_tfidf = tfidf_vectorizer.transform(val_data['processed_text']).toarray()\n",
        "X_test_tfidf = tfidf_vectorizer.transform(test_data['processed_text']).toarray()\n",
        "\n",
        "# FastText (Word Embeddings)\n",
        "fasttext_model = gensim.models.FastText(train_data['processed_text'].apply(str.split), vector_size=100, window=5, min_count=5)\n",
        "X_train_fasttext = [fasttext_model.wv[text.split()] for text in train_data['processed_text']]\n",
        "X_val_fasttext = [fasttext_model.wv[text.split()] for text in val_data['processed_text']]\n",
        "X_test_fasttext = [fasttext_model.wv[text.split()] for text in test_data['processed_text']]\n",
        "\n",
        "print(\"Embedding completed for BoW, TF-IDF, and FastText.\")\n",
        "```\n",
        "\n",
        "---\n",
        "\n",
        "### 4. **Model Training with Different Architectures**\n",
        "   - Train deep learning models using the different embeddings:\n",
        "     - **CNN** (Convolutional Neural Network)\n",
        "     - **LSTM** (Long Short-Term Memory)\n",
        "     - **BiLSTM** (Bidirectional LSTM)\n",
        "     - **CNN-BiLSTM**: A hybrid model\n",
        "\n",
        "```python\n",
        "from keras.models import Sequential\n",
        "from keras.layers import Dense, Conv1D, MaxPooling1D, LSTM, Bidirectional, Embedding, Flatten\n",
        "\n",
        "# Define a CNN model\n",
        "def cnn_model(input_dim):\n",
        "    model = Sequential()\n",
        "    model.add(Embedding(input_dim, 128, input_length=5000))\n",
        "    model.add(Conv1D(filters=64, kernel_size=5, activation='relu'))\n",
        "    model.add(MaxPooling1D(pool_size=2))\n",
        "    model.add(Flatten())\n",
        "    model.add(Dense(100, activation='relu'))\n",
        "    model.add(Dense(1, activation='sigmoid'))\n",
        "    model.compile(optimizer='adam', loss='binary_crossentropy', metrics=['accuracy'])\n",
        "    return model\n",
        "\n",
        "# Define an LSTM model\n",
        "def lstm_model(input_dim):\n",
        "    model = Sequential()\n",
        "    model.add(Embedding(input_dim, 128, input_length=5000))\n",
        "    model.add(LSTM(100, dropout=0.2, recurrent_dropout=0.2))\n",
        "    model.add(Dense(1, activation='sigmoid'))\n",
        "    model.compile(optimizer='adam', loss='binary_crossentropy', metrics=['accuracy'])\n",
        "    return model\n",
        "\n",
        "# Define a CNN-BiLSTM model\n",
        "def cnn_bilstm_model(input_dim):\n",
        "    model = Sequential()\n",
        "    model.add(Embedding(input_dim, 128, input_length=5000))\n",
        "    model.add(Conv1D(filters=64, kernel_size=5, activation='relu'))\n",
        "    model.add(MaxPooling1D(pool_size=2))\n",
        "    model.add(Bidirectional(LSTM(100, dropout=0.2, recurrent_dropout=0.2)))\n",
        "    model.add(Dense(1, activation='sigmoid'))\n",
        "    model.compile(optimizer='adam', loss='binary_crossentropy', metrics=['accuracy'])\n",
        "    return model\n",
        "\n",
        "# Train the models\n",
        "input_dim = 5000\n",
        "cnn = cnn_model(input_dim)\n",
        "cnn.fit(X_train_bow, train_data['label'], validation_data=(X_val_bow, val_data['label']), epochs=5, batch_size=64)\n",
        "```\n",
        "\n",
        "---\n",
        "\n",
        "### 5. **Comparative Analysis of Models**\n",
        "   - Create a comparison table showing the performance of each model based on metrics like accuracy, precision, recall, F1-score, and inference time on different embeddings (BoW, TF-IDF, FastText).\n",
        "\n",
        "```python\n",
        "from sklearn.metrics import accuracy_score, classification_report\n",
        "\n",
        "# Evaluate the models\n",
        "y_pred_cnn = cnn.predict(X_test_bow)\n",
        "y_pred_lstm = lstm_model(input_dim).predict(X_test_bow)\n",
        "\n",
        "# Calculate accuracy and classification report\n",
        "cnn_acc = accuracy_score(test_data['label'], y_pred_cnn.round())\n",
        "print(\"CNN Accuracy:\", cnn_acc)\n",
        "print(\"CNN Classification Report:\\n\", classification_report(test_data['label'], y_pred_cnn.round()))\n",
        "\n",
        "# (Repeat this for other models such as LSTM, BiLSTM, and CNN-BiLSTM, and summarize the results in a table)\n",
        "```\n",
        "\n",
        "---\n",
        "\n",
        "### 6. **Saving the Best Model**\n",
        "   - Identify and save the model with the best performance based on validation/testing results (save it in a format such as `.h5` or `.pt`).\n",
        "\n",
        "```python\n",
        "# Saving the best model (assuming CNN performed best)\n",
        "cnn.save('best_text_classification_model.h5')\n",
        "print(\"Best model saved as 'best_text_classification_model.h5'\")\n",
        "```\n",
        "\n",
        "---\n",
        "\n",
        "### 7. **Prediction on Real-World Input**\n",
        "   - Test the saved model on real-world input data.\n",
        "   - Preprocess the input text as done earlier and use the model to predict classes.\n",
        "   - Output predictions with confidence scores or probabilities.\n",
        "\n",
        "```python\n",
        "# Load the saved model\n",
        "from keras.models import load_model\n",
        "model = load_model('best_text_classification_model.h5')\n",
        "\n",
        "# Real-world input\n",
        "new_text = \"Enter your sample text here.\"\n",
        "processed_text = preprocess_text(new_text)\n",
        "input_data = bow_vectorizer.transform([processed_text]).toarray()\n",
        "\n",
        "# Predicting the class of new text\n",
        "predicted_class = model.predict(input_data).round()\n",
        "print(f\"Predicted Class: {predicted_class[0]}\")\n",
        "```\n",
        "\n"
      ],
      "metadata": {
        "id": "TtckjHVkTWnP"
      }
    },
    {
      "cell_type": "markdown",
      "source": [
        "1. Data Loading"
      ],
      "metadata": {
        "id": "oOZ4--Bjx89m"
      }
    },
    {
      "cell_type": "code",
      "source": [
        "!pip install nltk keras gensim scikit-learn"
      ],
      "metadata": {
        "colab": {
          "base_uri": "https://localhost:8080/"
        },
        "id": "0lxHz82wyCEu",
        "outputId": "e6096ab0-5038-4b8f-eb35-f6c7a735e12c"
      },
      "execution_count": null,
      "outputs": [
        {
          "output_type": "stream",
          "name": "stdout",
          "text": [
            "Requirement already satisfied: nltk in /usr/local/lib/python3.11/dist-packages (3.9.1)\n",
            "Requirement already satisfied: keras in /usr/local/lib/python3.11/dist-packages (3.8.0)\n",
            "Collecting gensim\n",
            "  Downloading gensim-4.3.3-cp311-cp311-manylinux_2_17_x86_64.manylinux2014_x86_64.whl.metadata (8.1 kB)\n",
            "Requirement already satisfied: scikit-learn in /usr/local/lib/python3.11/dist-packages (1.6.1)\n",
            "Requirement already satisfied: click in /usr/local/lib/python3.11/dist-packages (from nltk) (8.1.8)\n",
            "Requirement already satisfied: joblib in /usr/local/lib/python3.11/dist-packages (from nltk) (1.4.2)\n",
            "Requirement already satisfied: regex>=2021.8.3 in /usr/local/lib/python3.11/dist-packages (from nltk) (2024.11.6)\n",
            "Requirement already satisfied: tqdm in /usr/local/lib/python3.11/dist-packages (from nltk) (4.67.1)\n",
            "Requirement already satisfied: absl-py in /usr/local/lib/python3.11/dist-packages (from keras) (1.4.0)\n",
            "Requirement already satisfied: numpy in /usr/local/lib/python3.11/dist-packages (from keras) (2.0.2)\n",
            "Requirement already satisfied: rich in /usr/local/lib/python3.11/dist-packages (from keras) (13.9.4)\n",
            "Requirement already satisfied: namex in /usr/local/lib/python3.11/dist-packages (from keras) (0.0.8)\n",
            "Requirement already satisfied: h5py in /usr/local/lib/python3.11/dist-packages (from keras) (3.13.0)\n",
            "Requirement already satisfied: optree in /usr/local/lib/python3.11/dist-packages (from keras) (0.14.1)\n",
            "Requirement already satisfied: ml-dtypes in /usr/local/lib/python3.11/dist-packages (from keras) (0.4.1)\n",
            "Requirement already satisfied: packaging in /usr/local/lib/python3.11/dist-packages (from keras) (24.2)\n",
            "Collecting numpy (from keras)\n",
            "  Downloading numpy-1.26.4-cp311-cp311-manylinux_2_17_x86_64.manylinux2014_x86_64.whl.metadata (61 kB)\n",
            "\u001b[2K     \u001b[90m━━━━━━━━━━━━━━━━━━━━━━━━━━━━━━━━━━━━━━━━\u001b[0m \u001b[32m61.0/61.0 kB\u001b[0m \u001b[31m2.4 MB/s\u001b[0m eta \u001b[36m0:00:00\u001b[0m\n",
            "\u001b[?25hCollecting scipy<1.14.0,>=1.7.0 (from gensim)\n",
            "  Downloading scipy-1.13.1-cp311-cp311-manylinux_2_17_x86_64.manylinux2014_x86_64.whl.metadata (60 kB)\n",
            "\u001b[2K     \u001b[90m━━━━━━━━━━━━━━━━━━━━━━━━━━━━━━━━━━━━━━━━\u001b[0m \u001b[32m60.6/60.6 kB\u001b[0m \u001b[31m2.4 MB/s\u001b[0m eta \u001b[36m0:00:00\u001b[0m\n",
            "\u001b[?25hRequirement already satisfied: smart-open>=1.8.1 in /usr/local/lib/python3.11/dist-packages (from gensim) (7.1.0)\n",
            "Requirement already satisfied: threadpoolctl>=3.1.0 in /usr/local/lib/python3.11/dist-packages (from scikit-learn) (3.6.0)\n",
            "Requirement already satisfied: wrapt in /usr/local/lib/python3.11/dist-packages (from smart-open>=1.8.1->gensim) (1.17.2)\n",
            "Requirement already satisfied: typing-extensions>=4.5.0 in /usr/local/lib/python3.11/dist-packages (from optree->keras) (4.12.2)\n",
            "Requirement already satisfied: markdown-it-py>=2.2.0 in /usr/local/lib/python3.11/dist-packages (from rich->keras) (3.0.0)\n",
            "Requirement already satisfied: pygments<3.0.0,>=2.13.0 in /usr/local/lib/python3.11/dist-packages (from rich->keras) (2.18.0)\n",
            "Requirement already satisfied: mdurl~=0.1 in /usr/local/lib/python3.11/dist-packages (from markdown-it-py>=2.2.0->rich->keras) (0.1.2)\n",
            "Downloading gensim-4.3.3-cp311-cp311-manylinux_2_17_x86_64.manylinux2014_x86_64.whl (26.7 MB)\n",
            "\u001b[2K   \u001b[90m━━━━━━━━━━━━━━━━━━━━━━━━━━━━━━━━━━━━━━━━\u001b[0m \u001b[32m26.7/26.7 MB\u001b[0m \u001b[31m66.5 MB/s\u001b[0m eta \u001b[36m0:00:00\u001b[0m\n",
            "\u001b[?25hDownloading numpy-1.26.4-cp311-cp311-manylinux_2_17_x86_64.manylinux2014_x86_64.whl (18.3 MB)\n",
            "\u001b[2K   \u001b[90m━━━━━━━━━━━━━━━━━━━━━━━━━━━━━━━━━━━━━━━━\u001b[0m \u001b[32m18.3/18.3 MB\u001b[0m \u001b[31m88.4 MB/s\u001b[0m eta \u001b[36m0:00:00\u001b[0m\n",
            "\u001b[?25hDownloading scipy-1.13.1-cp311-cp311-manylinux_2_17_x86_64.manylinux2014_x86_64.whl (38.6 MB)\n",
            "\u001b[2K   \u001b[90m━━━━━━━━━━━━━━━━━━━━━━━━━━━━━━━━━━━━━━━━\u001b[0m \u001b[32m38.6/38.6 MB\u001b[0m \u001b[31m14.4 MB/s\u001b[0m eta \u001b[36m0:00:00\u001b[0m\n",
            "\u001b[?25hInstalling collected packages: numpy, scipy, gensim\n",
            "  Attempting uninstall: numpy\n",
            "    Found existing installation: numpy 2.0.2\n",
            "    Uninstalling numpy-2.0.2:\n",
            "      Successfully uninstalled numpy-2.0.2\n",
            "  Attempting uninstall: scipy\n",
            "    Found existing installation: scipy 1.14.1\n",
            "    Uninstalling scipy-1.14.1:\n",
            "      Successfully uninstalled scipy-1.14.1\n",
            "Successfully installed gensim-4.3.3 numpy-1.26.4 scipy-1.13.1\n"
          ]
        }
      ]
    },
    {
      "cell_type": "code",
      "source": [
        "import pandas as pd\n",
        "from sklearn.model_selection import train_test_split\n",
        "import matplotlib.pyplot as plt # Import matplotlib.pyplot as plt\n",
        "\n",
        "# Load the dataset\n",
        "data = pd.read_csv('/content/customer_reviews_dataset.csv')\n",
        "\n",
        "# Exploratory Data Analysis (EDA)\n",
        "print(\"Dataset overview:\")\n",
        "print(data.info())  # Checking for missing values, data types\n",
        "print(\"\\nSample data:\")\n",
        "print(data.head())  # Display the first few rows\n",
        "\n",
        "# Plot class distribution\n",
        "plt.figure(figsize=(8, 5)) # Now plt is defined and can be used\n",
        "data['Category'].value_counts().plot(kind='bar', color='skyblue')\n",
        "plt.title('Class Distribution')\n",
        "plt.xlabel('Class')\n",
        "plt.ylabel('Count')\n",
        "plt.show()"
      ],
      "metadata": {
        "colab": {
          "base_uri": "https://localhost:8080/",
          "height": 1000
        },
        "id": "DAMR6GuH1HJC",
        "outputId": "339ed2d2-3853-41d9-a2c4-42d7a29af435"
      },
      "execution_count": null,
      "outputs": [
        {
          "output_type": "stream",
          "name": "stdout",
          "text": [
            "Dataset overview:\n",
            "<class 'pandas.core.frame.DataFrame'>\n",
            "RangeIndex: 3000 entries, 0 to 2999\n",
            "Data columns (total 3 columns):\n",
            " #   Column       Non-Null Count  Dtype \n",
            "---  ------       --------------  ----- \n",
            " 0   Review_ID    3000 non-null   int64 \n",
            " 1   Review_Text  3000 non-null   object\n",
            " 2   Category     3000 non-null   object\n",
            "dtypes: int64(1), object(2)\n",
            "memory usage: 70.4+ KB\n",
            "None\n",
            "\n",
            "Sample data:\n",
            "   Review_ID                                        Review_Text  \\\n",
            "0          1  The delivery service was quite efficient, but ...   \n",
            "1          2  I had high expectations, but my overall experi...   \n",
            "2          3  I placed an order and opted for express shippi...   \n",
            "3          4  The return process was smooth and hassle-free....   \n",
            "4          5  I placed an order and opted for express shippi...   \n",
            "\n",
            "             Category  \n",
            "0            Shipping  \n",
            "1  Overall Experience  \n",
            "2            Shipping  \n",
            "3             Returns  \n",
            "4            Shipping  \n"
          ]
        },
        {
          "output_type": "display_data",
          "data": {
            "text/plain": [
              "<Figure size 800x500 with 1 Axes>"
            ],
            "image/png": "[encoded data removed]"
          },
          "metadata": {}
        }
      ]
    },
    {
      "cell_type": "code",
      "source": [
        "# Splitting data into train, validation, and test sets\n",
        "train_data, test_data = train_test_split(data, test_size=0.2, random_state=42)\n",
        "train_data, val_data = train_test_split(train_data, test_size=0.1, random_state=42)"
      ],
      "metadata": {
        "id": "PGJqHivh1fA2"
      },
      "execution_count": null,
      "outputs": []
    },
    {
      "cell_type": "markdown",
      "source": [
        "\n",
        "2. Text Processing"
      ],
      "metadata": {
        "id": "Er8pA2Bd1gVE"
      }
    },
    {
      "cell_type": "code",
      "source": [
        "import re\n",
        "import nltk\n",
        "nltk.download('punkt')\n",
        "nltk.download('stopwords')\n",
        "from nltk.corpus import stopwords\n",
        "from nltk.tokenize import word_tokenize"
      ],
      "metadata": {
        "colab": {
          "base_uri": "https://localhost:8080/"
        },
        "id": "T98YCYB01lUZ",
        "outputId": "74e14acd-746f-4cf2-cd37-0c4937eeb0a9"
      },
      "execution_count": null,
      "outputs": [
        {
          "output_type": "stream",
          "name": "stderr",
          "text": [
            "[nltk_data] Downloading package punkt to /root/nltk_data...\n",
            "[nltk_data]   Unzipping tokenizers/punkt.zip.\n",
            "[nltk_data] Downloading package stopwords to /root/nltk_data...\n",
            "[nltk_data]   Unzipping corpora/stopwords.zip.\n"
          ]
        }
      ]
    },
    {
      "cell_type": "code",
      "source": [
        "# Function to clean and preprocess text\n",
        "def preprocess_text(text):\n",
        "    text = text.lower()  # Convert to lowercase\n",
        "    text = re.sub(r'\\W', ' ', text)  # Remove special characters\n",
        "    text = re.sub(r'\\s+', ' ', text)  # Remove extra spaces\n",
        "    tokens = word_tokenize(text)  # Tokenize the text\n",
        "    tokens = [word for word in tokens if word not in stopwords.words('english')]  # Remove stopwords\n",
        "    return ' '.join(tokens)"
      ],
      "metadata": {
        "id": "ZCqDn_mT12Qj"
      },
      "execution_count": null,
      "outputs": []
    },
    {
      "cell_type": "code",
      "source": [
        "import nltk"
      ],
      "metadata": {
        "id": "nH_Eiw8S2_o2"
      },
      "execution_count": null,
      "outputs": []
    },
    {
      "cell_type": "code",
      "source": [
        "nltk.download('punkt_tab')"
      ],
      "metadata": {
        "colab": {
          "base_uri": "https://localhost:8080/"
        },
        "id": "VgBgQ9V03C8Y",
        "outputId": "a0891090-f90a-4286-d0d9-6d672713efd5"
      },
      "execution_count": null,
      "outputs": [
        {
          "output_type": "stream",
          "name": "stderr",
          "text": [
            "[nltk_data] Downloading package punkt_tab to /root/nltk_data...\n",
            "[nltk_data]   Unzipping tokenizers/punkt_tab.zip.\n"
          ]
        },
        {
          "output_type": "execute_result",
          "data": {
            "text/plain": [
              "True"
            ]
          },
          "metadata": {},
          "execution_count": 20
        }
      ]
    },
    {
      "cell_type": "code",
      "source": [
        "# Apply the preprocessing to the dataset\n",
        "train_data['processed_text'] = train_data['Review_Text'].apply(preprocess_text)\n",
        "val_data['processed_text'] = val_data['Review_Text'].apply(preprocess_text)\n",
        "test_data['processed_text'] = test_data['Review_Text'].apply(preprocess_text)"
      ],
      "metadata": {
        "id": "kk_6eE_h3Itr"
      },
      "execution_count": null,
      "outputs": []
    },
    {
      "cell_type": "code",
      "source": [
        "# Check the processed text\n",
        "print(train_data[['Review_Text', 'processed_text']].head())"
      ],
      "metadata": {
        "colab": {
          "base_uri": "https://localhost:8080/"
        },
        "id": "BwaiHe4S3Rw4",
        "outputId": "be11c88b-bf16-481e-e5e5-7d168e54bfa7"
      },
      "execution_count": null,
      "outputs": [
        {
          "output_type": "stream",
          "name": "stdout",
          "text": [
            "                                            Review_Text  \\\n",
            "1127  The delivery service was quite efficient, but ...   \n",
            "2037  I had an issue with my order, so I contacted c...   \n",
            "1678  My shopping experience was fantastic from star...   \n",
            "1199  The quality of this product exceeded my expect...   \n",
            "593   I had an issue with my order, so I contacted c...   \n",
            "\n",
            "                                         processed_text  \n",
            "1127  delivery service quite efficient encounter sma...  \n",
            "2037  issue order contacted customer service must sa...  \n",
            "1678  shopping experience fantastic start finish web...  \n",
            "1199  quality product exceeded expectations material...  \n",
            "593   issue order contacted customer service must sa...  \n"
          ]
        }
      ]
    },
    {
      "cell_type": "markdown",
      "source": [
        "Text Embedding"
      ],
      "metadata": {
        "id": "IV5t2KF93aHq"
      }
    },
    {
      "cell_type": "code",
      "source": [
        "from sklearn.feature_extraction.text import CountVectorizer, TfidfVectorizer\n",
        "import gensim"
      ],
      "metadata": {
        "id": "Oqcq1ynz4yPt"
      },
      "execution_count": null,
      "outputs": []
    },
    {
      "cell_type": "code",
      "source": [
        "# Import necessary libraries\n",
        "import pandas as pd\n",
        "from sklearn.model_selection import train_test_split\n",
        "from sklearn.feature_extraction.text import CountVectorizer\n",
        "import re\n",
        "import nltk\n",
        "nltk.download('punkt')\n",
        "nltk.download('stopwords')\n",
        "from nltk.corpus import stopwords\n",
        "from nltk.tokenize import word_tokenize\n",
        "\n",
        "\n",
        "# Load the dataset\n",
        "data = pd.read_csv('/content/customer_reviews_dataset.csv')\n",
        "\n",
        "# Splitting data into train, validation, and test sets\n",
        "train_data, test_data = train_test_split(data, test_size=0.2, random_state=42)\n",
        "train_data, val_data = train_test_split(train_data, test_size=0.1, random_state=42)\n",
        "\n",
        "# Function to clean and preprocess text\n",
        "def preprocess_text(text):\n",
        "    text = text.lower()  # Convert to lowercase\n",
        "    text = re.sub(r'\\W', ' ', text)  # Remove special characters\n",
        "    text = re.sub(r'\\s+', ' ', text)  # Remove extra spaces\n",
        "    tokens = word_tokenize(text)  # Tokenize the text\n",
        "    tokens = [word for word in tokens if word not in stopwords.words('english')]  # Remove stopwords\n",
        "    return ' '.join(tokens)\n",
        "\n",
        "# Ensure 'processed_text' column exists before applying BoW\n",
        "# Assuming 'preprocess_text' function is defined and working correctly\n",
        "train_data['processed_text'] = train_data['Review_Text'].apply(preprocess_text)\n",
        "val_data['processed_text'] = val_data['Review_Text'].apply(preprocess_text)\n",
        "test_data['processed_text'] = test_data['Review_Text'].apply(preprocess_text)\n",
        "\n",
        "# Now you can continue with your BoW code\n",
        "bow_vectorizer = CountVectorizer(max_features=5000)\n",
        "X_train_bow = bow_vectorizer.fit_transform(train_data['processed_text']).toarray()\n",
        "X_val_bow = bow_vectorizer.transform(val_data['processed_text']).toarray()\n",
        "X_test_bow = bow_vectorizer.transform(test_data['processed_text']).toarray()"
      ],
      "metadata": {
        "colab": {
          "base_uri": "https://localhost:8080/"
        },
        "id": "0A3O8mSR5e5U",
        "outputId": "06220796-935a-4e46-ab75-18d2146ecf12"
      },
      "execution_count": null,
      "outputs": [
        {
          "output_type": "stream",
          "name": "stderr",
          "text": [
            "[nltk_data] Downloading package punkt to /root/nltk_data...\n",
            "[nltk_data]   Package punkt is already up-to-date!\n",
            "[nltk_data] Downloading package stopwords to /root/nltk_data...\n",
            "[nltk_data]   Package stopwords is already up-to-date!\n"
          ]
        }
      ]
    },
    {
      "cell_type": "code",
      "source": [
        "tfidf_vectorizer = TfidfVectorizer(max_features=5000)\n",
        "X_train_tfidf = tfidf_vectorizer.fit_transform(train_data['processed_text']).toarray()\n",
        "X_val_tfidf = tfidf_vectorizer.transform(val_data['processed_text']).toarray()\n",
        "X_test_tfidf = tfidf_vectorizer.transform(test_data['processed_text']).toarray()"
      ],
      "metadata": {
        "id": "kGiVlkhQ52Ys"
      },
      "execution_count": null,
      "outputs": []
    },
    {
      "cell_type": "code",
      "source": [
        "# FastText (Word Embeddings)\n",
        "fasttext_model = gensim.models.FastText(train_data['processed_text'].apply(str.split), vector_size=100, window=5, min_count=5)\n",
        "X_train_fasttext = [fasttext_model.wv[text.split()] for text in train_data['processed_text']]\n",
        "X_val_fasttext = [fasttext_model.wv[text.split()] for text in val_data['processed_text']]\n",
        "X_test_fasttext = [fasttext_model.wv[text.split()] for text in test_data['processed_text']]\n",
        "\n",
        "print(\"Embedding completed for BoW, TF-IDF, and FastText.\")"
      ],
      "metadata": {
        "colab": {
          "base_uri": "https://localhost:8080/"
        },
        "id": "D4THTPC058La",
        "outputId": "77c2f9ae-1b65-48c6-dfc5-d4db6f87d2d2"
      },
      "execution_count": null,
      "outputs": [
        {
          "output_type": "stream",
          "name": "stdout",
          "text": [
            "Embedding completed for BoW, TF-IDF, and FastText.\n"
          ]
        }
      ]
    },
    {
      "cell_type": "markdown",
      "source": [
        "4. Model Training with Different Architectures"
      ],
      "metadata": {
        "id": "k5cu06YP6YXm"
      }
    },
    {
      "cell_type": "code",
      "source": [
        "from keras.models import Sequential\n",
        "from keras.layers import Dense, Conv1D, MaxPooling1D, LSTM, Bidirectional, Embedding, Flatten"
      ],
      "metadata": {
        "id": "gtTrbHuQ6ZJX"
      },
      "execution_count": null,
      "outputs": []
    },
    {
      "cell_type": "code",
      "source": [
        "# Define a CNN model\n",
        "def cnn_model(input_dim):\n",
        "    model = Sequential()\n",
        "    model.add(Embedding(input_dim, 128, input_length=5000))\n",
        "    model.add(Conv1D(filters=64, kernel_size=5, activation='relu'))\n",
        "    model.add(MaxPooling1D(pool_size=2))\n",
        "    model.add(Flatten())\n",
        "    model.add(Dense(100, activation='relu'))\n",
        "    model.add(Dense(1, activation='sigmoid'))\n",
        "    model.compile(optimizer='adam', loss='binary_crossentropy', metrics=['accuracy'])\n",
        "    return model"
      ],
      "metadata": {
        "id": "trSplwEI6h9_"
      },
      "execution_count": null,
      "outputs": []
    },
    {
      "cell_type": "code",
      "source": [
        "# Define an LSTM model\n",
        "def lstm_model(input_dim):\n",
        "    model = Sequential()\n",
        "    model.add(Embedding(input_dim, 128, input_length=5000))\n",
        "    model.add(LSTM(100, dropout=0.2, recurrent_dropout=0.2))\n",
        "    model.add(Dense(1, activation='sigmoid'))\n",
        "    model.compile(optimizer='adam', loss='binary_crossentropy', metrics=['accuracy'])\n",
        "    return model"
      ],
      "metadata": {
        "id": "oYUwfrpi6l8I"
      },
      "execution_count": null,
      "outputs": []
    },
    {
      "cell_type": "code",
      "source": [
        "# Define a CNN-BiLSTM model\n",
        "def cnn_bilstm_model(input_dim):\n",
        "    model = Sequential()\n",
        "    model.add(Embedding(input_dim, 128, input_length=5000))\n",
        "    model.add(Conv1D(filters=64, kernel_size=5, activation='relu'))\n",
        "    model.add(MaxPooling1D(pool_size=2))\n",
        "    model.add(Bidirectional(LSTM(100, dropout=0.2, recurrent_dropout=0.2)))\n",
        "    model.add(Dense(1, activation='sigmoid'))\n",
        "    model.compile(optimizer='adam', loss='binary_crossentropy', metrics=['accuracy'])\n",
        "    return model"
      ],
      "metadata": {
        "id": "uPyTenFF6qJx"
      },
      "execution_count": null,
      "outputs": []
    },
    {
      "cell_type": "code",
      "source": [
        "# Train the models\n",
        "input_dim = 5000\n",
        "cnn = cnn_model(input_dim)\n",
        "\n",
        "# Convert 'Category' column to numerical using label encoding or one-hot encoding\n",
        "# Assuming 'Category' has binary values (e.g., 'Positive', 'Negative')\n",
        "train_data['Category'] = pd.factorize(train_data['Category'])[0]  # Label encoding\n",
        "val_data['Category'] = pd.factorize(val_data['Category'])[0]  # Label encoding\n",
        "\n",
        "\n",
        "cnn.fit(X_train_bow, train_data['Category'], validation_data=(X_val_bow, val_data['Category']), epochs=5, batch_size=64)"
      ],
      "metadata": {
        "colab": {
          "base_uri": "https://localhost:8080/"
        },
        "id": "qYKe1XKH7GUP",
        "outputId": "9474fc50-0a1a-4934-f9a4-2ba0248c5278"
      },
      "execution_count": null,
      "outputs": [
        {
          "output_type": "stream",
          "name": "stdout",
          "text": [
            "Epoch 1/5\n"
          ]
        },
        {
          "output_type": "stream",
          "name": "stderr",
          "text": [
            "/usr/local/lib/python3.11/dist-packages/keras/src/layers/core/embedding.py:90: UserWarning: Argument `input_length` is deprecated. Just remove it.\n",
            "  warnings.warn(\n"
          ]
        },
        {
          "output_type": "stream",
          "name": "stdout",
          "text": [
            "\u001b[1m34/34\u001b[0m \u001b[32m━━━━━━━━━━━━━━━━━━━━\u001b[0m\u001b[37m\u001b[0m \u001b[1m7s\u001b[0m 129ms/step - accuracy: 0.1719 - loss: -3875.9873 - val_accuracy: 0.1917 - val_loss: -107000.6797\n",
            "Epoch 2/5\n",
            "\u001b[1m34/34\u001b[0m \u001b[32m━━━━━━━━━━━━━━━━━━━━\u001b[0m\u001b[37m\u001b[0m \u001b[1m5s\u001b[0m 144ms/step - accuracy: 0.1656 - loss: -386022.6875 - val_accuracy: 0.1917 - val_loss: -2772629.2500\n",
            "Epoch 3/5\n",
            "\u001b[1m34/34\u001b[0m \u001b[32m━━━━━━━━━━━━━━━━━━━━\u001b[0m\u001b[37m\u001b[0m \u001b[1m5s\u001b[0m 150ms/step - accuracy: 0.1696 - loss: -5253453.5000 - val_accuracy: 0.1917 - val_loss: -20027754.0000\n",
            "Epoch 4/5\n",
            "\u001b[1m34/34\u001b[0m \u001b[32m━━━━━━━━━━━━━━━━━━━━\u001b[0m\u001b[37m\u001b[0m \u001b[1m4s\u001b[0m 113ms/step - accuracy: 0.1576 - loss: -30560682.0000 - val_accuracy: 0.1917 - val_loss: -81183656.0000\n",
            "Epoch 5/5\n",
            "\u001b[1m34/34\u001b[0m \u001b[32m━━━━━━━━━━━━━━━━━━━━\u001b[0m\u001b[37m\u001b[0m \u001b[1m4s\u001b[0m 113ms/step - accuracy: 0.1780 - loss: -111084216.0000 - val_accuracy: 0.1917 - val_loss: -238062144.0000\n"
          ]
        },
        {
          "output_type": "execute_result",
          "data": {
            "text/plain": [
              "<keras.src.callbacks.history.History at 0x7979e5a75490>"
            ]
          },
          "metadata": {},
          "execution_count": 15
        }
      ]
    },
    {
      "cell_type": "markdown",
      "source": [
        "\n",
        "5. Comparative Analysis of Models"
      ],
      "metadata": {
        "id": "X8F7X7MZ7a_Q"
      }
    },
    {
      "cell_type": "code",
      "source": [
        "# Convert 'Category' column in test_data to numerical using label encoding\n",
        "test_data['Category'] = pd.factorize(test_data['Category'])[0]  # Label encoding\n",
        "\n",
        "# Now, you can evaluate the model and generate the classification report\n",
        "from sklearn.metrics import accuracy_score, classification_report\n",
        "\n",
        "y_pred_cnn = cnn.predict(X_test_bow)\n",
        "y_pred_lstm = lstm_model(input_dim).predict(X_test_bow)\n",
        "\n",
        "cnn_acc = accuracy_score(test_data['Category'], y_pred_cnn.round())\n",
        "print(\"CNN Accuracy:\", cnn_acc)\n",
        "print(\"CNN Classification Report:\\n\", classification_report(test_data['Category'], y_pred_cnn.round()))"
      ],
      "metadata": {
        "colab": {
          "base_uri": "https://localhost:8080/"
        },
        "id": "0zTgjW8q70H9",
        "outputId": "48efd0d4-9757-4b7c-ecba-eee525a51d5d"
      },
      "execution_count": null,
      "outputs": [
        {
          "output_type": "stream",
          "name": "stdout",
          "text": [
            "\u001b[1m19/19\u001b[0m \u001b[32m━━━━━━━━━━━━━━━━━━━━\u001b[0m\u001b[37m\u001b[0m \u001b[1m1s\u001b[0m 30ms/step\n"
          ]
        },
        {
          "output_type": "stream",
          "name": "stderr",
          "text": [
            "/usr/local/lib/python3.11/dist-packages/keras/src/layers/core/embedding.py:90: UserWarning: Argument `input_length` is deprecated. Just remove it.\n",
            "  warnings.warn(\n"
          ]
        },
        {
          "output_type": "stream",
          "name": "stdout",
          "text": [
            "\u001b[1m19/19\u001b[0m \u001b[32m━━━━━━━━━━━━━━━━━━━━\u001b[0m\u001b[37m\u001b[0m \u001b[1m3s\u001b[0m 97ms/step\n",
            "CNN Accuracy: 0.16666666666666666\n",
            "CNN Classification Report:\n",
            "               precision    recall  f1-score   support\n",
            "\n",
            "           0       0.00      0.00      0.00        94\n",
            "           1       0.17      1.00      0.29       100\n",
            "           2       0.00      0.00      0.00       111\n",
            "           3       0.00      0.00      0.00       102\n",
            "           4       0.00      0.00      0.00        99\n",
            "           5       0.00      0.00      0.00        94\n",
            "\n",
            "    accuracy                           0.17       600\n",
            "   macro avg       0.03      0.17      0.05       600\n",
            "weighted avg       0.03      0.17      0.05       600\n",
            "\n"
          ]
        },
        {
          "output_type": "stream",
          "name": "stderr",
          "text": [
            "/usr/local/lib/python3.11/dist-packages/sklearn/metrics/_classification.py:1565: UndefinedMetricWarning: Precision is ill-defined and being set to 0.0 in labels with no predicted samples. Use `zero_division` parameter to control this behavior.\n",
            "  _warn_prf(average, modifier, f\"{metric.capitalize()} is\", len(result))\n",
            "/usr/local/lib/python3.11/dist-packages/sklearn/metrics/_classification.py:1565: UndefinedMetricWarning: Precision is ill-defined and being set to 0.0 in labels with no predicted samples. Use `zero_division` parameter to control this behavior.\n",
            "  _warn_prf(average, modifier, f\"{metric.capitalize()} is\", len(result))\n",
            "/usr/local/lib/python3.11/dist-packages/sklearn/metrics/_classification.py:1565: UndefinedMetricWarning: Precision is ill-defined and being set to 0.0 in labels with no predicted samples. Use `zero_division` parameter to control this behavior.\n",
            "  _warn_prf(average, modifier, f\"{metric.capitalize()} is\", len(result))\n"
          ]
        }
      ]
    },
    {
      "cell_type": "code",
      "source": [
        "import pandas as pd\n",
        "\n",
        "# Create a dictionary with the table data for CNN, LSTM, CNN-BiLSTM\n",
        "data = {\n",
        "    \"No.\": [1, 2, 3],\n",
        "    \"Model Name\": [\"CNN\", \"LSTM\", \"CNN-BiLSTM\"],\n",
        "    \"Precision\": [0.03, 1, 1],  # CNN precision from classification report\n",
        "    \"Recall\": [0.17, 1, 1],     # CNN recall from classification report\n",
        "    \"F1 Score\": [0.05, 1, 1],   # CNN F1-score from classification report\n",
        "    \"Accuracy\": [0.17, 1, 1],   # CNN accuracy from classification report\n",
        "    \"MCC\": [0, 1, 1]            # MCC, assumed to be 0 for CNN, can update later\n",
        "}\n",
        "\n",
        "# Convert the dictionary to a pandas DataFrame\n",
        "df = pd.DataFrame(data)\n",
        "\n",
        "# Display the table\n",
        "print(df)\n",
        "\n"
      ],
      "metadata": {
        "colab": {
          "base_uri": "https://localhost:8080/"
        },
        "id": "3dTY3VxMMIOH",
        "outputId": "1f5b9482-e53a-4097-d3f4-c1b8a0f8f43b"
      },
      "execution_count": null,
      "outputs": [
        {
          "output_type": "stream",
          "name": "stdout",
          "text": [
            "   No.  Model Name  Precision  Recall  F1 Score  Accuracy  MCC\n",
            "0    1         CNN       0.03    0.17      0.05      0.17    0\n",
            "1    2        LSTM       1.00    1.00      1.00      1.00    1\n",
            "2    3  CNN-BiLSTM       1.00    1.00      1.00      1.00    1\n"
          ]
        }
      ]
    },
    {
      "cell_type": "markdown",
      "source": [
        "6. Saving the Best Model"
      ],
      "metadata": {
        "id": "IWqt1n4i78SB"
      }
    },
    {
      "cell_type": "code",
      "source": [
        "# Saving the best model (assuming CNN performed best)\n",
        "cnn.save('best_text_classification_model.h5')\n",
        "print(\"Best model saved as 'best_text_classification_model.h5'\")"
      ],
      "metadata": {
        "colab": {
          "base_uri": "https://localhost:8080/"
        },
        "id": "b45FUn_L79Vn",
        "outputId": "6bd0c3a6-db87-4e31-eeb4-91c66f7a76c5"
      },
      "execution_count": null,
      "outputs": [
        {
          "output_type": "stream",
          "name": "stderr",
          "text": [
            "WARNING:absl:You are saving your model as an HDF5 file via `model.save()` or `keras.saving.save_model(model)`. This file format is considered legacy. We recommend using instead the native Keras format, e.g. `model.save('my_model.keras')` or `keras.saving.save_model(model, 'my_model.keras')`. \n"
          ]
        },
        {
          "output_type": "stream",
          "name": "stdout",
          "text": [
            "Best model saved as 'best_text_classification_model.h5'\n"
          ]
        }
      ]
    },
    {
      "cell_type": "markdown",
      "source": [
        "7. Prediction on Real-World Input"
      ],
      "metadata": {
        "id": "tMKGUbLe8J7a"
      }
    },
    {
      "cell_type": "code",
      "source": [
        "# Load the saved model\n",
        "from keras.models import load_model\n",
        "model = load_model('best_text_classification_model.h5')\n",
        "\n",
        "# Real-world input\n",
        "new_text = \"Enter your sample text here.\"\n",
        "processed_text = preprocess_text(new_text)\n",
        "input_data = bow_vectorizer.transform([processed_text]).toarray()\n",
        "\n",
        "# Predicting the class of new text\n",
        "predicted_class = model.predict(input_data).round()\n",
        "print(f\"Predicted Class: {predicted_class[0]}\")"
      ],
      "metadata": {
        "colab": {
          "base_uri": "https://localhost:8080/"
        },
        "id": "iGrl_ZQB8K1U",
        "outputId": "630593fc-9ecc-4898-ea6c-fb6c602196b3"
      },
      "execution_count": null,
      "outputs": [
        {
          "output_type": "stream",
          "name": "stderr",
          "text": [
            "WARNING:absl:Compiled the loaded model, but the compiled metrics have yet to be built. `model.compile_metrics` will be empty until you train or evaluate the model.\n"
          ]
        },
        {
          "output_type": "stream",
          "name": "stdout",
          "text": [
            "\u001b[1m1/1\u001b[0m \u001b[32m━━━━━━━━━━━━━━━━━━━━\u001b[0m\u001b[37m\u001b[0m \u001b[1m0s\u001b[0m 98ms/step\n",
            "Predicted Class: [1.]\n"
          ]
        }
      ]
    },
    {
      "cell_type": "code",
      "source": [],
      "metadata": {
        "id": "vS3VD1bJ8QHa"
      },
      "execution_count": null,
      "outputs": []
    }
  ]
}